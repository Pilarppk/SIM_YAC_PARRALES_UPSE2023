{
  "nbformat": 4,
  "nbformat_minor": 0,
  "metadata": {
    "colab": {
      "provenance": [],
      "toc_visible": true,
      "authorship_tag": "ABX9TyPzi1vzyUluSbyReYIH/Von",
      "include_colab_link": true
    },
    "kernelspec": {
      "name": "python3",
      "display_name": "Python 3"
    },
    "language_info": {
      "name": "python"
    }
  },
  "cells": [
    {
      "cell_type": "markdown",
      "metadata": {
        "id": "view-in-github",
        "colab_type": "text"
      },
      "source": [
        "<a href=\"https://colab.research.google.com/github/Pilarppk/SIM_YAC_PARRALES_UPSE2023/blob/main/PRUEBA.ipynb\" target=\"_parent\"><img src=\"https://colab.research.google.com/assets/colab-badge.svg\" alt=\"Open In Colab\"/></a>"
      ]
    },
    {
      "cell_type": "code",
      "execution_count": 4,
      "metadata": {
        "id": "-cbePbuXAX6V"
      },
      "outputs": [],
      "source": [
        "  #holamundo"
      ]
    },
    {
      "cell_type": "code",
      "source": [
        "2+2"
      ],
      "metadata": {
        "colab": {
          "base_uri": "https://localhost:8080/"
        },
        "id": "zp3SeF38KsGL",
        "outputId": "7f0fe9ae-ae65-48b5-a757-1e98f63cba02"
      },
      "execution_count": 6,
      "outputs": [
        {
          "output_type": "execute_result",
          "data": {
            "text/plain": [
              "4"
            ]
          },
          "metadata": {},
          "execution_count": 6
        }
      ]
    },
    {
      "cell_type": "markdown",
      "source": [
        "ESTE es el primer  ejercicio\n"
      ],
      "metadata": {
        "id": "5qMs9UspKzjQ"
      }
    },
    {
      "cell_type": "code",
      "source": [
        "Dx=100\n",
        "dt=10\n"
      ],
      "metadata": {
        "id": "7Vejd7y7K7q6"
      },
      "execution_count": null,
      "outputs": []
    },
    {
      "cell_type": "code",
      "source": [
        "a=lambda x,z:z-x"
      ],
      "metadata": {
        "id": "b4ir7ezXMRC9"
      },
      "execution_count": 13,
      "outputs": []
    },
    {
      "cell_type": "code",
      "source": [
        "a(4,1)"
      ],
      "metadata": {
        "colab": {
          "base_uri": "https://localhost:8080/"
        },
        "id": "C5X64j7LMrKs",
        "outputId": "d427ca85-4b53-4a18-fc89-9ce0bd76fa8a"
      },
      "execution_count": 14,
      "outputs": [
        {
          "output_type": "execute_result",
          "data": {
            "text/plain": [
              "-3"
            ]
          },
          "metadata": {},
          "execution_count": 14
        }
      ]
    },
    {
      "cell_type": "markdown",
      "source": [
        "pruebaaaa\n"
      ],
      "metadata": {
        "id": "oEbJgKKSOaEW"
      }
    },
    {
      "cell_type": "code",
      "source": [
        "dx=lambda Nn,Ly:Ly/Nn"
      ],
      "metadata": {
        "id": "gvlQGKOEb-Md"
      },
      "execution_count": 44,
      "outputs": []
    },
    {
      "cell_type": "code",
      "source": [
        "dx(10,1000)"
      ],
      "metadata": {
        "colab": {
          "base_uri": "https://localhost:8080/"
        },
        "id": "fM715hj5cSOV",
        "outputId": "30ff2c4b-b154-4e95-de80-60f679d817b3"
      },
      "execution_count": 45,
      "outputs": [
        {
          "output_type": "execute_result",
          "data": {
            "text/plain": [
              "100.0"
            ]
          },
          "metadata": {},
          "execution_count": 45
        }
      ]
    },
    {
      "cell_type": "code",
      "source": [
        "dt=10"
      ],
      "metadata": {
        "id": "Hb1AW1mFchh9"
      },
      "execution_count": 52,
      "outputs": []
    },
    {
      "cell_type": "code",
      "source": [
        "a=lambda PO,P1,P2:(((PO-(2*P1)+P2)/(dx*dx))*dt+P1)"
      ],
      "metadata": {
        "id": "94DCAT9lcy2C"
      },
      "execution_count": 59,
      "outputs": []
    },
    {
      "cell_type": "code",
      "source": [
        "a(0,4000,4000)"
      ],
      "metadata": {
        "colab": {
          "base_uri": "https://localhost:8080/"
        },
        "id": "8MuVgLBLc5Zo",
        "outputId": "6837a092-2499-4ede-847d-428f3b05ad45"
      },
      "execution_count": 60,
      "outputs": [
        {
          "output_type": "execute_result",
          "data": {
            "text/plain": [
              "3996.0"
            ]
          },
          "metadata": {},
          "execution_count": 60
        }
      ]
    },
    {
      "cell_type": "markdown",
      "source": [
        "con 10 nodos\n"
      ],
      "metadata": {
        "id": "yMJKlnHHeLXn"
      }
    },
    {
      "cell_type": "code",
      "source": [
        "x=lambda Nn,Ly:Ly/Nn"
      ],
      "metadata": {
        "id": "3RyZYSoueOdp"
      },
      "execution_count": 145,
      "outputs": []
    },
    {
      "cell_type": "code",
      "source": [
        "x(10,1000)"
      ],
      "metadata": {
        "colab": {
          "base_uri": "https://localhost:8080/"
        },
        "id": "mJk_ZDineZb8",
        "outputId": "e2b01f63-89be-4c4b-f1da-5b98e91d6eaf"
      },
      "execution_count": 146,
      "outputs": [
        {
          "output_type": "execute_result",
          "data": {
            "text/plain": [
              "100.0"
            ]
          },
          "metadata": {},
          "execution_count": 146
        }
      ]
    },
    {
      "cell_type": "code",
      "source": [
        "dt=10\n"
      ],
      "metadata": {
        "id": "KLJdBIhce6xU"
      },
      "execution_count": 119,
      "outputs": []
    },
    {
      "cell_type": "code",
      "source": [
        "P=lambda L0,L1,L2:(((L0-(2*L1)+L2)/(x*x))*dt+L1)\n",
        "\n",
        "b1=lambda L1,b,L3:(((L1-(2*b)+L3)/(x*x))*dt+b)"
      ],
      "metadata": {
        "id": "47u8NRu-or4d"
      },
      "execution_count": 163,
      "outputs": []
    },
    {
      "cell_type": "markdown",
      "source": [
        "10# Sección nueva"
      ],
      "metadata": {
        "id": "j_PARf7Xt7ju"
      }
    },
    {
      "cell_type": "code",
      "source": [
        "x=lambda Nn,Ly:Ly/Nn"
      ],
      "metadata": {
        "id": "bu4hPVmnuBEV"
      },
      "execution_count": 164,
      "outputs": []
    },
    {
      "cell_type": "code",
      "source": [
        "x(10,1000)"
      ],
      "metadata": {
        "colab": {
          "base_uri": "https://localhost:8080/"
        },
        "id": "vcLpAyqFuFiY",
        "outputId": "b83e1899-04c2-48a2-b4bd-8e1f4fdc60d4"
      },
      "execution_count": 165,
      "outputs": [
        {
          "output_type": "execute_result",
          "data": {
            "text/plain": [
              "100.0"
            ]
          },
          "metadata": {},
          "execution_count": 165
        }
      ]
    },
    {
      "cell_type": "code",
      "source": [
        "dt=10"
      ],
      "metadata": {
        "id": "QsZmPBb2uJP8"
      },
      "execution_count": 166,
      "outputs": []
    },
    {
      "cell_type": "code",
      "source": [
        "P=lambda P0,P1,P2:(((P0-(2*P1)+P2)/(x*x))*dt+P1)"
      ],
      "metadata": {
        "id": "pwRyn1E-uNAy"
      },
      "execution_count": 167,
      "outputs": []
    },
    {
      "cell_type": "code",
      "source": [
        "P9"
      ],
      "metadata": {
        "id": "aJzNrJPdua5W"
      },
      "execution_count": null,
      "outputs": []
    },
    {
      "cell_type": "markdown",
      "source": [
        "# Sección nueva"
      ],
      "metadata": {
        "id": "GpGD4NUst8O1"
      }
    },
    {
      "cell_type": "code",
      "source": [
        "b="
      ],
      "metadata": {
        "id": "3C4kxW-NsGlt"
      },
      "execution_count": null,
      "outputs": []
    }
  ]
}