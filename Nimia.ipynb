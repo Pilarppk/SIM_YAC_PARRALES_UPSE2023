{
  "nbformat": 4,
  "nbformat_minor": 0,
  "metadata": {
    "colab": {
      "provenance": [],
      "authorship_tag": "ABX9TyM5b0EUJFtbc2i/NdXLdqff",
      "include_colab_link": true
    },
    "kernelspec": {
      "name": "python3",
      "display_name": "Python 3"
    },
    "language_info": {
      "name": "python"
    }
  },
  "cells": [
    {
      "cell_type": "markdown",
      "metadata": {
        "id": "view-in-github",
        "colab_type": "text"
      },
      "source": [
        "<a href=\"https://colab.research.google.com/github/Pilarppk/SIM_YAC_PARRALES_UPSE2023/blob/main/Nimia.ipynb\" target=\"_parent\"><img src=\"https://colab.research.google.com/assets/colab-badge.svg\" alt=\"Open In Colab\"/></a>"
      ]
    },
    {
      "cell_type": "code",
      "execution_count": 4,
      "metadata": {
        "id": "-cbePbuXAX6V"
      },
      "outputs": [],
      "source": [
        "  #holamundo\n",
        "  "
      ]
    },
    {
      "cell_type": "code",
      "source": [
        "x=5*5\n"
      ],
      "metadata": {
        "id": "-pRXkmWFGpJl"
      },
      "execution_count": 3,
      "outputs": []
    },
    {
      "cell_type": "code",
      "source": [],
      "metadata": {
        "id": "1ZePpLnOGt_0"
      },
      "execution_count": null,
      "outputs": []
    },
    {
      "cell_type": "code",
      "source": [
        "tradicion"
      ],
      "metadata": {
        "id": "aS31800RHjOP"
      },
      "execution_count": null,
      "outputs": []
    }
  ]
}