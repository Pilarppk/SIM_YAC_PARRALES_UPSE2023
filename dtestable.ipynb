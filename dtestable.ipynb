{
  "nbformat": 4,
  "nbformat_minor": 0,
  "metadata": {
    "colab": {
      "provenance": [],
      "authorship_tag": "ABX9TyO4/ZpFb+Fc1NvOeyh7jP2J",
      "include_colab_link": true
    },
    "kernelspec": {
      "name": "python3",
      "display_name": "Python 3"
    },
    "language_info": {
      "name": "python"
    }
  },
  "cells": [
    {
      "cell_type": "markdown",
      "metadata": {
        "id": "view-in-github",
        "colab_type": "text"
      },
      "source": [
        "<a href=\"https://colab.research.google.com/github/Pilarppk/SIM_YAC_PARRALES_UPSE2023/blob/main/dtestable.ipynb\" target=\"_parent\"><img src=\"https://colab.research.google.com/assets/colab-badge.svg\" alt=\"Open In Colab\"/></a>"
      ]
    },
    {
      "cell_type": "code",
      "execution_count": 1,
      "metadata": {
        "id": "QtazVqSpzdFW"
      },
      "outputs": [],
      "source": [
        "#Holaamundo"
      ]
    },
    {
      "cell_type": "code",
      "source": [
        "d=lambda ly,Nn:ly/Nn\n",
        "d(1000,10)"
      ],
      "metadata": {
        "colab": {
          "base_uri": "https://localhost:8080/"
        },
        "id": "C00o4vY3z2Dn",
        "outputId": "55e62b93-6849-4124-bad4-5e3b779063cf"
      },
      "execution_count": 104,
      "outputs": [
        {
          "output_type": "execute_result",
          "data": {
            "text/plain": [
              "100.0"
            ]
          },
          "metadata": {},
          "execution_count": 104
        }
      ]
    },
    {
      "cell_type": "code",
      "source": [
        "dt=10\n",
        "\n"
      ],
      "metadata": {
        "id": "dNxeRsvlz4xb"
      },
      "execution_count": 105,
      "outputs": []
    },
    {
      "cell_type": "code",
      "source": [
        "P=lambda P1,P2,P3:(((P1-(2*P2)+P3)/(dx*dx))*dt)+P2"
      ],
      "metadata": {
        "id": "zKmZUzkcAyYN"
      },
      "execution_count": 106,
      "outputs": []
    },
    {
      "cell_type": "code",
      "source": [
        "P(0,4000,4000)"
      ],
      "metadata": {
        "colab": {
          "base_uri": "https://localhost:8080/"
        },
        "id": "ZcWRRBUcBMpl",
        "outputId": "2873ff45-6523-4062-d633-d7aaf07a90ea"
      },
      "execution_count": 107,
      "outputs": [
        {
          "output_type": "execute_result",
          "data": {
            "text/plain": [
              "3996.0"
            ]
          },
          "metadata": {},
          "execution_count": 107
        }
      ]
    },
    {
      "cell_type": "markdown",
      "source": [
        "nodos\n"
      ],
      "metadata": {
        "id": "TCBPLPloFte3"
      }
    },
    {
      "cell_type": "code",
      "source": [
        "import numpy as np\n"
      ],
      "metadata": {
        "id": "JLgudBUPM6di"
      },
      "execution_count": 111,
      "outputs": []
    },
    {
      "cell_type": "code",
      "source": [
        "import matplotlib.pyplot as plt\n"
      ],
      "metadata": {
        "id": "ucF6iU45NAFa"
      },
      "execution_count": 112,
      "outputs": []
    },
    {
      "cell_type": "code",
      "source": [
        "L=1000\n",
        "#dicretizar\n",
        "\n",
        "N=10\n",
        "x=np.linspace(0,L,N)\n",
        "dx=L/N-1\n",
        "#condicion inicial\n",
        "t=0\n",
        "Pini=4000\n",
        "P=np.ones(N)*Pini \n",
        "#ccondicones de frontera\n",
        "P0=0\n",
        "P[0]=P0\n",
        "PL=0\n",
        "P[-1]=PL\n",
        "\n",
        "\n",
        "#solucion\n",
        "dt=10\n",
        "tfin=150\n",
        "Pdt=P.copy()\n",
        "Psol=[P]\n",
        "tsol=[t]\n",
        "\n",
        "while t<tfin:\n",
        "  for i in range(N):\n",
        "    if i==0:\n",
        "      Pdt[i]=P0\n",
        "    elif i==N-1:\n",
        "       Pdt[i]=PL\n",
        "    else:\n",
        "        Pdt[i]=(((P[i-1]-2*P[i]+P[i+1])/(dx**2))*dt)+P[i]\n",
        "  P=Pdt.copy()\n",
        "  t=t+dt\n",
        "  print(P)\n",
        "\n"
      ],
      "metadata": {
        "colab": {
          "base_uri": "https://localhost:8080/"
        },
        "id": "LyObW4QiFwQ6",
        "outputId": "dd976386-27b6-41f0-ed46-0850c1e23268"
      },
      "execution_count": 119,
      "outputs": [
        {
          "output_type": "stream",
          "name": "stdout",
          "text": [
            "[   0.        3995.9187838 4000.        4000.        4000.\n",
            " 4000.        4000.        4000.        3995.9187838    0.       ]\n",
            "[   0.         3991.84589576 3999.99583592 4000.         4000.\n",
            " 4000.         4000.         3999.99583592 3991.84589576    0.        ]\n",
            "[   0.         3987.78131464 3999.98752475 3999.99999575 4000.\n",
            " 4000.         3999.99999575 3999.98752475 3987.78131464    0.        ]\n",
            "[   0.         3983.72501926 3999.97508343 3999.99998303 4000.\n",
            " 4000.         3999.99998303 3999.97508343 3983.72501926    0.        ]\n",
            "[   0.         3979.67698849 3999.95852883 3999.99995764 3999.99999998\n",
            " 3999.99999998 3999.99995764 3999.95852883 3979.67698849    0.        ]\n",
            "[   0.         3975.63720127 3999.93787776 3999.99991542 3999.99999994\n",
            " 3999.99999994 3999.99991542 3999.93787776 3975.63720127    0.        ]\n",
            "[   0.         3971.60563661 3999.91314698 3999.99985221 3999.99999985\n",
            " 3999.99999985 3999.99985221 3999.91314698 3971.60563661    0.        ]\n",
            "[   0.         3967.58227356 3999.88435318 3999.99976389 3999.9999997\n",
            " 3999.9999997  3999.99976389 3999.88435318 3967.58227356    0.        ]\n",
            "[   0.         3963.56709124 3999.85151299 3999.99964638 3999.99999946\n",
            " 3999.99999946 3999.99964638 3999.85151299 3963.56709124    0.        ]\n",
            "[   0.         3959.56006882 3999.81464299 3999.9994956  3999.9999991\n",
            " 3999.9999991  3999.9994956  3999.81464299 3959.56006882    0.        ]\n",
            "[   0.         3955.56118555 3999.77375969 3999.9993075  3999.99999858\n",
            " 3999.99999858 3999.9993075  3999.77375969 3955.56118555    0.        ]\n",
            "[   0.         3951.57042072 3999.72887955 3999.99907808 3999.99999788\n",
            " 3999.99999788 3999.99907808 3999.72887955 3951.57042072    0.        ]\n",
            "[   0.         3947.58775368 3999.68001896 3999.99880334 3999.99999694\n",
            " 3999.99999694 3999.99880334 3999.68001896 3947.58775368    0.        ]\n",
            "[   0.         3943.61316386 3999.62719427 3999.9984793  3999.99999572\n",
            " 3999.99999572 3999.9984793  3999.62719427 3943.61316386    0.        ]\n",
            "[   0.         3939.64663072 3999.57042175 3999.99810202 3999.99999418\n",
            " 3999.99999418 3999.99810202 3999.57042175 3939.64663072    0.        ]\n"
          ]
        }
      ]
    },
    {
      "cell_type": "code",
      "source": [],
      "metadata": {
        "id": "edmQCpilIfYf"
      },
      "execution_count": null,
      "outputs": []
    }
  ]
}