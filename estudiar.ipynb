{
  "nbformat": 4,
  "nbformat_minor": 0,
  "metadata": {
    "colab": {
      "provenance": [],
      "authorship_tag": "ABX9TyNXqvGFr3y9HTrYq//m/BD5",
      "include_colab_link": true
    },
    "kernelspec": {
      "name": "python3",
      "display_name": "Python 3"
    },
    "language_info": {
      "name": "python"
    }
  },
  "cells": [
    {
      "cell_type": "markdown",
      "metadata": {
        "id": "view-in-github",
        "colab_type": "text"
      },
      "source": [
        "<a href=\"https://colab.research.google.com/github/Pilarppk/SIM_YAC_PARRALES_UPSE2023/blob/main/estudiar.ipynb\" target=\"_parent\"><img src=\"https://colab.research.google.com/assets/colab-badge.svg\" alt=\"Open In Colab\"/></a>"
      ]
    },
    {
      "cell_type": "code",
      "execution_count": 4,
      "metadata": {
        "id": "HdWX1LX8C-4j"
      },
      "outputs": [],
      "source": [
        "import numpy as np\n",
        "import math\n",
        "import matplotlib.pyplot as plt"
      ]
    },
    {
      "cell_type": "code",
      "source": [
        "#DATOS\n",
        "L=1000\n",
        "N=10\n",
        "dx=L/N\n",
        "x=np.arange(0,L+1,dx)\n",
        "dista=np.ones_like(x)\n",
        "print(dista)"
      ],
      "metadata": {
        "colab": {
          "base_uri": "https://localhost:8080/"
        },
        "id": "pDygbeABD3EI",
        "outputId": "e2d222ea-a5d5-4d35-d722-b438b112ca9d"
      },
      "execution_count": 31,
      "outputs": [
        {
          "output_type": "stream",
          "name": "stdout",
          "text": [
            "[1. 1. 1. 1. 1. 1. 1. 1. 1. 1. 1.]\n"
          ]
        }
      ]
    },
    {
      "cell_type": "code",
      "source": [
        "Pini=4000\n",
        "#condicones de frontera\n",
        "P=np.ones_like(dista)*Pini\n",
        "P0=0\n",
        "P[0]=P0\n",
        "PL=0\n",
        "P[-1]=PL\n",
        "#solucion\n",
        "dt=100\n",
        "tfin=2000\n",
        "t=dt\n",
        "\n"
      ],
      "metadata": {
        "id": "VzSqQSyuFyKk"
      },
      "execution_count": 51,
      "outputs": []
    },
    {
      "cell_type": "code",
      "source": [
        "Pdt=P.copy()\n",
        "Psol=[P]\n",
        "tsol=[t]\n"
      ],
      "metadata": {
        "id": "Dk67qQJIIRHw"
      },
      "execution_count": 52,
      "outputs": []
    },
    {
      "cell_type": "code",
      "source": [
        "while t<tfin:\n",
        "  for i in range(N):\n",
        "    if i==0:\n",
        "      Pdt[i]=P0\n",
        "    elif i==N-1:\n",
        "       Pdt[i]=PL\n",
        "    else:\n",
        "        Pdt[i]=(((P[i-1]-2*P[i]+P[i+1])/(dx**2))*dt)+P[i]\n",
        "  P=Pdt.copy()\n",
        "  t=t+dt\n",
        "  print(P)"
      ],
      "metadata": {
        "colab": {
          "base_uri": "https://localhost:8080/"
        },
        "id": "y9n6z6QMDMIq",
        "outputId": "e8e488df-78ef-4c58-e730-4e30313b2f04"
      },
      "execution_count": 53,
      "outputs": [
        {
          "output_type": "stream",
          "name": "stdout",
          "text": [
            "[   0. 3960. 4000. 4000. 4000. 4000. 4000. 4000. 4000.    0.    0.]\n",
            "[   0.  3920.8 3999.6 4000.  4000.  4000.  4000.  4000.  3960.     0.\n",
            "    0. ]\n",
            "[   0.    3882.38  3998.816 3999.996 4000.    4000.    4000.    3999.6\n",
            " 3920.8      0.       0.   ]\n",
            "[   0.      3844.72056 3997.66344 3999.98424 3999.99996 4000.\n",
            " 3999.996   3998.816   3882.38       0.         0.     ]\n",
            "[   0.        3807.8027832 3996.1572192 3999.9611892 3999.9998032\n",
            " 3999.9999596 3999.98424   3997.66344   3844.72056      0.\n",
            "    0.       ]\n",
            "[   0.         3771.60829973 3994.31171454 3999.92353564 3999.99941862\n",
            " 3999.99980084 3999.9611892  3996.1572192  3807.8027832     0.\n",
            "    0.        ]\n",
            "[   0.         3736.11925088 3992.1407986  3999.86817626 3999.99866362\n",
            " 3999.9994109  3999.92353561 3994.31171454 3771.60829973    0.\n",
            "    0.        ]\n",
            "[   0.         3701.31827385 3989.6578569  3999.79220736 3999.99736622\n",
            " 3999.99864468 3999.86817615 3992.1407986  3736.11925088    0.\n",
            "    0.        ]\n",
            "[   0.         3667.18848694 3986.87580458 3999.69291544 3999.99532741\n",
            " 3999.99732721 3999.79220706 3989.6578569  3701.31827385    0.\n",
            "    0.        ]\n",
            "[   0.         3633.71347525 3983.80710251 3999.56776845 3999.99232329\n",
            " 3999.99525601 3999.69291476 3986.87580457 3667.18848694    0.\n",
            "    0.        ]\n",
            "[   0.         3600.87727677 3980.4637729  3999.41440734 3999.98810707\n",
            " 3999.99220327 3999.56776707 3983.8071025  3633.71347525    0.\n",
            "    0.        ]\n",
            "[   0.         3568.66436896 3976.85741428 3999.23063799 3999.98241103\n",
            " 3999.98791794 3999.41440479 3980.46377287 3600.87727677    0.\n",
            "    0.        ]\n",
            "[   0.         3537.05965572 3972.99921606 3999.01442349 3999.97494837\n",
            " 3999.98212774 3999.2306336  3976.85741423 3568.66436896    0.\n",
            "    0.        ]\n",
            "[   0.         3506.04845477 3968.89997253 3998.76387666 3999.96541492\n",
            " 3999.97454101 3999.01441635 3972.99921597 3537.05965572    0.\n",
            "    0.        ]\n",
            "[   0.         3475.6164854  3964.5700964  3998.477253   3999.9534908\n",
            " 3999.9648485  3998.76386559 3968.89997237 3506.04845477    0.\n",
            "    0.        ]\n",
            "[   0.         3445.74985666 3960.01963185 3998.15294381 3999.93884199\n",
            " 3999.95272509 3998.47723649 3964.57009613 3475.6164854     0.\n",
            "    0.        ]\n",
            "[   0.         3416.43505584 3955.25826722 3997.78946968 3999.92112184\n",
            " 3999.93783138 3998.15291997 3960.01963142 3445.74985665    0.\n",
            "    0.        ]\n",
            "[   0.         3387.6589374  3950.29534713 3997.38547417 3999.89997242\n",
            " 3999.91981517 3997.7894362  3955.25826656 3416.43505583    0.\n",
            "    0.        ]\n",
            "[   0.         3359.40871212 3945.1398843  3996.93971789 3999.87502586\n",
            " 3999.89831295 3997.38542829 3950.29534615 3387.65893738    0.\n",
            "    0.        ]\n"
          ]
        }
      ]
    },
    {
      "cell_type": "code",
      "source": [
        "\n",
        "import matplotlib.pyplot as plot\n",
        "plot_date (x,P)\n",
        "imgplot = plt.imshow(P,np.ndarray)"
      ],
      "metadata": {
        "colab": {
          "base_uri": "https://localhost:8080/",
          "height": 208
        },
        "id": "PdHFWGO-X-lb",
        "outputId": "bf6dcf36-8243-4e4e-bc8b-83d664a31e99"
      },
      "execution_count": 73,
      "outputs": [
        {
          "output_type": "error",
          "ename": "NameError",
          "evalue": "ignored",
          "traceback": [
            "\u001b[0;31m---------------------------------------------------------------------------\u001b[0m",
            "\u001b[0;31mNameError\u001b[0m                                 Traceback (most recent call last)",
            "\u001b[0;32m<ipython-input-73-95183417de04>\u001b[0m in \u001b[0;36m<cell line: 2>\u001b[0;34m()\u001b[0m\n\u001b[1;32m      1\u001b[0m \u001b[0;32mimport\u001b[0m \u001b[0mmatplotlib\u001b[0m\u001b[0;34m.\u001b[0m\u001b[0mpyplot\u001b[0m \u001b[0;32mas\u001b[0m \u001b[0mplot\u001b[0m\u001b[0;34m\u001b[0m\u001b[0;34m\u001b[0m\u001b[0m\n\u001b[0;32m----> 2\u001b[0;31m \u001b[0mplot_date\u001b[0m \u001b[0;34m(\u001b[0m\u001b[0mx\u001b[0m\u001b[0;34m,\u001b[0m\u001b[0mP\u001b[0m\u001b[0;34m)\u001b[0m\u001b[0;34m\u001b[0m\u001b[0;34m\u001b[0m\u001b[0m\n\u001b[0m\u001b[1;32m      3\u001b[0m \u001b[0mimgplot\u001b[0m \u001b[0;34m=\u001b[0m \u001b[0mplt\u001b[0m\u001b[0;34m.\u001b[0m\u001b[0mimshow\u001b[0m\u001b[0;34m(\u001b[0m\u001b[0mP\u001b[0m\u001b[0;34m,\u001b[0m\u001b[0mnp\u001b[0m\u001b[0;34m.\u001b[0m\u001b[0mndarray\u001b[0m\u001b[0;34m)\u001b[0m\u001b[0;34m\u001b[0m\u001b[0;34m\u001b[0m\u001b[0m\n",
            "\u001b[0;31mNameError\u001b[0m: name 'plot_date' is not defined"
          ]
        }
      ]
    },
    {
      "cell_type": "code",
      "source": [
        "import matplotlib.pyplot as plt\n",
        "plt.plot_date (x,P)\n",
        "imaplot=plt.plot_date(x,P)"
      ],
      "metadata": {
        "colab": {
          "base_uri": "https://localhost:8080/",
          "height": 430
        },
        "id": "EmV2UY8kaM9c",
        "outputId": "ee233b74-2ac6-4d76-d678-af65a6a7a3f5"
      },
      "execution_count": 76,
      "outputs": [
        {
          "output_type": "display_data",
          "data": {
            "text/plain": [
              "<Figure size 640x480 with 1 Axes>"
            ],
            "image/png": "[encoded data removed]"
          },
          "metadata": {}
        }
      ]
    }
  ]
}