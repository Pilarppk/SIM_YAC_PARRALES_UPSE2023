{
  "nbformat": 4,
  "nbformat_minor": 0,
  "metadata": {
    "colab": {
      "provenance": [],
      "authorship_tag": "ABX9TyPZed82kzvzUdShj0/uWQHL",
      "include_colab_link": true
    },
    "kernelspec": {
      "name": "python3",
      "display_name": "Python 3"
    },
    "language_info": {
      "name": "python"
    }
  },
  "cells": [
    {
      "cell_type": "markdown",
      "metadata": {
        "id": "view-in-github",
        "colab_type": "text"
      },
      "source": [
        "<a href=\"https://colab.research.google.com/github/Pilarppk/SIM_YAC_PARRALES_UPSE2023/blob/main/explicto%20e%20implicito.ipynb\" target=\"_parent\"><img src=\"https://colab.research.google.com/assets/colab-badge.svg\" alt=\"Open In Colab\"/></a>"
      ]
    },
    {
      "cell_type": "markdown",
      "source": [
        "explicito\n"
      ],
      "metadata": {
        "id": "s86pVGBNH4jf"
      }
    },
    {
      "cell_type": "code",
      "source": [
        "\n",
        "import numpy  as np\n",
        "import math"
      ],
      "metadata": {
        "id": "Kom4IyCDH8vt"
      },
      "execution_count": 2,
      "outputs": []
    },
    {
      "cell_type": "code",
      "source": [
        "L=30000\n",
        "dx=15000\n",
        "Tiempo=100000\n",
        "DT=1\n",
        "K=50 #Permeabilidad MD\n",
        "por=0.5\n",
        "vis=1 # centipoise\n",
        "Beta=0.7\n",
        "CompTotal=1.2**(-6) #ps1-1\n",
        "A=200000#ft^2\n"
      ],
      "metadata": {
        "id": "blGXHm83IAUY"
      },
      "execution_count": 10,
      "outputs": []
    },
    {
      "cell_type": "code",
      "source": [
        "Alpha=K/(vis*por*CompTotal)\n",
        "Alpha\n",
        "Eta=(Alpha*DT)/(dx**2)\n",
        "Eta\n",
        ""
      ],
      "metadata": {
        "id": "6wGbXv5FIHAF",
        "outputId": "35aa6b5a-c7c7-4f50-aeac-80f612dfec24",
        "colab": {
          "base_uri": "https://localhost:8080/"
        }
      },
      "execution_count": 12,
      "outputs": [
        {
          "output_type": "execute_result",
          "data": {
            "text/plain": [
              "1.3271039999999997e-06"
            ]
          },
          "metadata": {},
          "execution_count": 12
        }
      ]
    },
    {
      "cell_type": "code",
      "source": [
        "#Esquema Explicito\n",
        "def Presdt(P0,P1,P2,Eta):\n",
        "  Pdt=P1+Eta*(P0-(2*P1)+P2)\n",
        "  return(Pdt)\n",
        "\n",
        "Pexplicita=np.zeros((Tiempo//DT,(L//dx)+2))\n"
      ],
      "metadata": {
        "id": "DF79Xji0IIWZ"
      },
      "execution_count": 13,
      "outputs": []
    },
    {
      "cell_type": "code",
      "source": [
        "#Condiciones inicialea\n",
        "Pyac=7000\n",
        "Piz=2000\n",
        "Pder=0\n",
        "Pin=np.ones((L//dx)+2)\n",
        "Pres=np.zeros((L//dx)+2)\n",
        "Pres2=np.zeros((L//dx)+2)\n",
        "Pin=Pin*Pyac\n",
        "Pin[0]=2*Piz-Pin[1]\n",
        "Pin[len(Pin)-1]=2*Pder-Pin[len(Pin)-2]\n",
        "\n",
        "Pin.shape"
      ],
      "metadata": {
        "id": "lONXuB4oIPiE",
        "outputId": "4f9a3b52-df6f-4c68-fbfb-6ac65e30d49a",
        "colab": {
          "base_uri": "https://localhost:8080/"
        }
      },
      "execution_count": 15,
      "outputs": [
        {
          "output_type": "execute_result",
          "data": {
            "text/plain": [
              "(4,)"
            ]
          },
          "metadata": {},
          "execution_count": 15
        }
      ]
    },
    {
      "cell_type": "code",
      "source": [
        "len(Pin)\n",
        "Pexplicita.shape\n"
      ],
      "metadata": {
        "id": "_H6VhLt2IUTP",
        "outputId": "372ea242-f84d-4479-ea70-bb435b09dba4",
        "colab": {
          "base_uri": "https://localhost:8080/"
        }
      },
      "execution_count": 16,
      "outputs": [
        {
          "output_type": "execute_result",
          "data": {
            "text/plain": [
              "(100000, 4)"
            ]
          },
          "metadata": {},
          "execution_count": 16
        }
      ]
    },
    {
      "cell_type": "code",
      "source": [
        "t=DT\n",
        "Pexplicita[0]=Pin\n",
        "while t<Tiempo:\n",
        "  for i in range(0,len(Pin)-1):\n",
        "    if i==0:\n",
        "      Pres[i]=2*Piz-Pin[1]\n",
        "    elif i==len(Pin)-1:\n",
        "      Pres[i]=2*Pder-Pin[len(Pin)-2]\n",
        "    else:\n",
        "      Pres[i]=Presdt(Pin[i-1],Pin[i],Pin[i+1],Eta)\n",
        "  Pexplicita[t//DT]=Pres\n",
        "  t=t+DT\n",
        "  Pin=Pres"
      ],
      "metadata": {
        "id": "iKVW1J3HIf-M"
      },
      "execution_count": 19,
      "outputs": []
    },
    {
      "cell_type": "code",
      "source": [
        "import matplotlib.pyplot as plt\n",
        "\n",
        "imgplot = plt.imshow(Pexplicita,aspect='auto')\n",
        "plt.colorbar()"
      ],
      "metadata": {
        "id": "TCEYiJ-jIgqj",
        "outputId": "c0b1c265-faa7-4656-9cfe-1dcec1cb5116",
        "colab": {
          "base_uri": "https://localhost:8080/",
          "height": 453
        }
      },
      "execution_count": 20,
      "outputs": [
        {
          "output_type": "execute_result",
          "data": {
            "text/plain": [
              "<matplotlib.colorbar.Colorbar at 0x7f63b81c60b0>"
            ]
          },
          "metadata": {},
          "execution_count": 20
        },
        {
          "output_type": "display_data",
          "data": {
            "text/plain": [
              "<Figure size 640x480 with 2 Axes>"
            ],
            "image/png": "[encoded data removed]"
          },
          "metadata": {}
        }
      ]
    },
    {
      "cell_type": "code",
      "source": [],
      "metadata": {
        "id": "W4_STVpEIhB-"
      },
      "execution_count": null,
      "outputs": []
    },
    {
      "cell_type": "markdown",
      "source": [
        "implicito"
      ],
      "metadata": {
        "id": "9uWZNfAlMF9T"
      }
    },
    {
      "cell_type": "code",
      "source": [
        "#Esquema Implicito\n",
        "Pimplicita=np.zeros((Tiempo//DT,(L//dx)+2))\n",
        "\n",
        "Pin=np.ones((L//dx)+2)\n",
        "Pres=np.zeros((L//dx)+2)\n",
        "Pin=Pin*Pyac\n",
        "Pin[0]=Piz\n",
        "Pin[len(Pin)-1]=Pder\n",
        "N=(L//dx)+2\n",
        "Matriz_resolucion=np.zeros([N-2,N-2])"
      ],
      "metadata": {
        "id": "BW-8tfcmIhTg"
      },
      "execution_count": null,
      "outputs": []
    },
    {
      "cell_type": "code",
      "source": [
        "for i in range(N-2):\n",
        "  Matriz_resolucion[i,i]=1+2*Eta\n",
        "  if i>0:\n",
        "    Matriz_resolucion[i,i-1]=-Eta\n",
        "  if i<(N-3):\n",
        "    Matriz_resolucion[i,i+1]=-Eta"
      ],
      "metadata": {
        "id": "x8TwIFsQMSc5"
      },
      "execution_count": null,
      "outputs": []
    },
    {
      "cell_type": "code",
      "source": [
        "Matriz_resolucion2=np.zeros_like(Matriz_resolucion)\n",
        "for i in range(0,N-3):\n",
        "  Matriz_resolucion2[i,i]=1+2*Eta\n",
        "  if i>0:\n",
        "    Matriz_resolucion2[i,i-1]=-Eta\n",
        "  if i<(N-4):\n",
        "    Matriz_resolucion2[i,i+1]=-Eta\n",
        "\n",
        "Matriz_resolucion2[1,1] =1+3*Eta\n",
        "Matriz_resolucion2[N-3,N-3] =1+Eta\n",
        "Pin[1]=2*Eta*Piz\n"
      ],
      "metadata": {
        "id": "mLPlyL6lMTXI"
      },
      "execution_count": null,
      "outputs": []
    },
    {
      "cell_type": "code",
      "source": [
        "Pcal=np.zeros([N-2])\n",
        "Pcal=np.linalg.solve(Matriz_resolucion2,Pin[1:-1])"
      ],
      "metadata": {
        "id": "oCi37eVQMXgn"
      },
      "execution_count": null,
      "outputs": []
    },
    {
      "cell_type": "code",
      "source": [
        "Pres=np.concatenate(([Piz],Pcal,[Pder]))\n",
        "Pres"
      ],
      "metadata": {
        "id": "WppqczWQMcqE"
      },
      "execution_count": null,
      "outputs": []
    },
    {
      "cell_type": "code",
      "source": [
        "Pimplicita[0]=Pin\n",
        "t=DT\n",
        "while t<Tiempo:\n",
        "  Pcal=np.linalg.solve(Matriz_resolucion2,Pin[1:-1])\n",
        "  Pres=np.concatenate(([Piz],Pcal,[Pder]))\n",
        "  Pimplicita[t//DT]=Pres\n",
        "  Pin=Pres\n",
        "  t=t+DT"
      ],
      "metadata": {
        "id": "icEfY-aeMhlf"
      },
      "execution_count": null,
      "outputs": []
    },
    {
      "cell_type": "code",
      "source": [
        "import matplotlib.pyplot as plt\n",
        "\n",
        "imgplot = plt.imshow(Pimplicita,aspect='auto')\n",
        "plt.colorbar()"
      ],
      "metadata": {
        "id": "G87-gw3oMovN"
      },
      "execution_count": null,
      "outputs": []
    },
    {
      "cell_type": "markdown",
      "source": [
        "Ecuacion de la difusividad"
      ],
      "metadata": {
        "id": "o5HMflAhXaK5"
      }
    },
    {
      "cell_type": "code",
      "source": [
        "import numpy as np #biblioteca\n",
        "import math\n",
        "\n"
      ],
      "metadata": {
        "id": "V3yC6e3fXjAS"
      },
      "execution_count": 1,
      "outputs": []
    },
    {
      "cell_type": "code",
      "source": [
        "L=1000 #distancia total\n",
        "dx=50 #delta x\n",
        "Distance=np.arange(0,L+1,dx) #Crear un vector de las distancias\n",
        "P01=np.ones_like(Distance) #Vector inical de Presiones\n",
        "print(P01) #imprimir vector P01"
      ],
      "metadata": {
        "id": "w9iXXIJIXmKD",
        "outputId": "06671428-48b6-4bc9-f903-f42b686d0cc7",
        "colab": {
          "base_uri": "https://localhost:8080/"
        }
      },
      "execution_count": 2,
      "outputs": [
        {
          "output_type": "stream",
          "name": "stdout",
          "text": [
            "[1 1 1 1 1 1 1 1 1 1 1 1 1 1 1 1 1 1 1 1 1]\n"
          ]
        }
      ]
    },
    {
      "cell_type": "code",
      "source": [
        "#datos del yacimiento\n",
        "PYac=1000 #presion del yacimiento\n",
        "PFrontd=0 #Frontera derecha\n",
        "PFronti=0 #Frontera izquierda\n",
        "Tiempo=400000 #tiempo total\n",
        "DT=1000 #delta t\n",
        "VectorTiempo=np.arange(0,math.floor(Tiempo/DT)*DT,DT)\n",
        "PXX=np.zeros((math.floor(Tiempo/DT),len(Distance)))\n",
        "Pdt=np.zeros_like(Distance)"
      ],
      "metadata": {
        "id": "elTVBVfkYJkZ"
      },
      "execution_count": 3,
      "outputs": []
    },
    {
      "cell_type": "code",
      "source": [
        "PXX=np.zeros((math.floor(Tiempo/DT),len(Distance)))\n",
        "print(PXX)\n",
        ""
      ],
      "metadata": {
        "id": "MbfNyfFjZDgV",
        "outputId": "4d5e8479-c0c6-45a3-9d81-6c1ab5737473",
        "colab": {
          "base_uri": "https://localhost:8080/"
        }
      },
      "execution_count": 5,
      "outputs": [
        {
          "output_type": "stream",
          "name": "stdout",
          "text": [
            "[[0. 0. 0. ... 0. 0. 0.]\n",
            " [0. 0. 0. ... 0. 0. 0.]\n",
            " [0. 0. 0. ... 0. 0. 0.]\n",
            " ...\n",
            " [0. 0. 0. ... 0. 0. 0.]\n",
            " [0. 0. 0. ... 0. 0. 0.]\n",
            " [0. 0. 0. ... 0. 0. 0.]]\n"
          ]
        }
      ]
    },
    {
      "cell_type": "markdown",
      "source": [
        "ESTE es el primer  ejercicio\n"
      ],
      "metadata": {
        "id": "5qMs9UspKzjQ"
      }
    },
    {
      "cell_type": "code",
      "source": [
        "Dx=100\n",
        "dt=10\n"
      ],
      "metadata": {
        "id": "7Vejd7y7K7q6"
      },
      "execution_count": null,
      "outputs": []
    },
    {
      "cell_type": "code",
      "source": [
        "a=lambda x,z:z-x"
      ],
      "metadata": {
        "id": "b4ir7ezXMRC9"
      },
      "execution_count": null,
      "outputs": []
    },
    {
      "cell_type": "code",
      "source": [
        "a(4,1)"
      ],
      "metadata": {
        "colab": {
          "base_uri": "https://localhost:8080/"
        },
        "id": "C5X64j7LMrKs",
        "outputId": "d427ca85-4b53-4a18-fc89-9ce0bd76fa8a"
      },
      "execution_count": null,
      "outputs": [
        {
          "output_type": "execute_result",
          "data": {
            "text/plain": [
              "-3"
            ]
          },
          "metadata": {},
          "execution_count": 14
        }
      ]
    }
  ]
}