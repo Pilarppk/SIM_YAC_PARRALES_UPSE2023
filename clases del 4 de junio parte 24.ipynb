{
  "nbformat": 4,
  "nbformat_minor": 0,
  "metadata": {
    "colab": {
      "provenance": [],
      "authorship_tag": "ABX9TyO5P9ba+VTtb7HM7yX6SXmi",
      "include_colab_link": true
    },
    "kernelspec": {
      "name": "python3",
      "display_name": "Python 3"
    },
    "language_info": {
      "name": "python"
    }
  },
  "cells": [
    {
      "cell_type": "markdown",
      "metadata": {
        "id": "view-in-github",
        "colab_type": "text"
      },
      "source": [
        "<a href=\"https://colab.research.google.com/github/Pilarppk/SIM_YAC_PARRALES_UPSE2023/blob/main/clases%20del%204%20de%20junio%20parte%2024.ipynb\" target=\"_parent\"><img src=\"https://colab.research.google.com/assets/colab-badge.svg\" alt=\"Open In Colab\"/></a>"
      ]
    },
    {
      "cell_type": "markdown",
      "source": [
        "Ecuacion de la Difusicidad con respecto a d"
      ],
      "metadata": {
        "id": "S_cRVbo8VdXd"
      }
    },
    {
      "cell_type": "code",
      "source": [
        "import numpy as np\n",
        "import math\n"
      ],
      "metadata": {
        "id": "XeLsGmbFOEU4"
      },
      "execution_count": 50,
      "outputs": []
    },
    {
      "cell_type": "code",
      "source": [
        "L=1000\n",
        "dx=10\n",
        "Distance=np.arange(0,L+1,dx)# vector de la distancia\n",
        "P01=np.ones_like(Distance) #vector inicial de presion\n",
        "print(P01)"
      ],
      "metadata": {
        "colab": {
          "base_uri": "https://localhost:8080/"
        },
        "id": "X42oSiagOMPN",
        "outputId": "0cf19f57-6134-4b3a-83a9-4e77e0adab92"
      },
      "execution_count": 51,
      "outputs": [
        {
          "output_type": "stream",
          "name": "stdout",
          "text": [
            "[1 1 1 1 1 1 1 1 1 1 1 1 1 1 1 1 1 1 1 1 1 1 1 1 1 1 1 1 1 1 1 1 1 1 1 1 1\n",
            " 1 1 1 1 1 1 1 1 1 1 1 1 1 1 1 1 1 1 1 1 1 1 1 1 1 1 1 1 1 1 1 1 1 1 1 1 1\n",
            " 1 1 1 1 1 1 1 1 1 1 1 1 1 1 1 1 1 1 1 1 1 1 1 1 1 1 1]\n"
          ]
        }
      ]
    },
    {
      "cell_type": "code",
      "source": [
        "PYac=4000\n",
        "Pfrond=0 #fronteera derecha\n",
        "Pfroni=0 #forntera izq\n",
        "Tiempo=100\n",
        "dt=10\n",
        "vectortiempo=np.arange(0,math.floor(Tiempo/dt)*dt,dt)\n",
        "Pxx=np.zeros((math.floor(Tiempo/dt),len(Distance)))\n",
        "Pdt=np.zeros_like(Distance)\n"
      ],
      "metadata": {
        "id": "vIZie1FePxDB"
      },
      "execution_count": 52,
      "outputs": []
    },
    {
      "cell_type": "code",
      "source": [
        "Pxx.shape"
      ],
      "metadata": {
        "colab": {
          "base_uri": "https://localhost:8080/"
        },
        "id": "dQ5ZMxhIe-_w",
        "outputId": "6f7ac815-468c-4968-c762-82fad4439055"
      },
      "execution_count": 53,
      "outputs": [
        {
          "output_type": "execute_result",
          "data": {
            "text/plain": [
              "(10, 101)"
            ]
          },
          "metadata": {},
          "execution_count": 53
        }
      ]
    },
    {
      "cell_type": "code",
      "source": [
        "P01=np.ones_like(Distance)\n",
        "P01=P01*PYac\n",
        "P01[0]=Pfroni\n",
        "P01[len(P01)-1]=Pfrond \n",
        "P0in=P01 #condicion inicial\n",
        "Pdt=P01 # vector de resultados dt\n",
        "t=dt #primera interacion\n"
      ],
      "metadata": {
        "id": "6qwcNGi1O3NG"
      },
      "execution_count": 54,
      "outputs": []
    },
    {
      "cell_type": "code",
      "source": [
        "print(P01)"
      ],
      "metadata": {
        "colab": {
          "base_uri": "https://localhost:8080/"
        },
        "id": "ajA-sy-BQ0jS",
        "outputId": "663ffe5a-1a0c-4fbc-fbd4-1ea23072b52e"
      },
      "execution_count": 55,
      "outputs": [
        {
          "output_type": "stream",
          "name": "stdout",
          "text": [
            "[   0 4000 4000 4000 4000 4000 4000 4000 4000 4000 4000 4000 4000 4000\n",
            " 4000 4000 4000 4000 4000 4000 4000 4000 4000 4000 4000 4000 4000 4000\n",
            " 4000 4000 4000 4000 4000 4000 4000 4000 4000 4000 4000 4000 4000 4000\n",
            " 4000 4000 4000 4000 4000 4000 4000 4000 4000 4000 4000 4000 4000 4000\n",
            " 4000 4000 4000 4000 4000 4000 4000 4000 4000 4000 4000 4000 4000 4000\n",
            " 4000 4000 4000 4000 4000 4000 4000 4000 4000 4000 4000 4000 4000 4000\n",
            " 4000 4000 4000 4000 4000 4000 4000 4000 4000 4000 4000 4000 4000 4000\n",
            " 4000 4000    0]\n"
          ]
        }
      ]
    },
    {
      "cell_type": "code",
      "source": [
        "def Predt(P1,P2,P3,dt,dx):\n",
        "  return(((P1-2*P2+P3)/(dx*dx))*dt)+P2"
      ],
      "metadata": {
        "id": "WfbrnTMVRuiD"
      },
      "execution_count": 56,
      "outputs": []
    },
    {
      "cell_type": "code",
      "source": [
        "Pxx[0]=P01\n",
        "while t<Tiempo:\n",
        "  for i in range(0,len(P0in)-1):\n",
        "    if i==0:\n",
        "      Pdt[i]=P0in[0]\n",
        "    elif i==len(P0in)-1:\n",
        "      Pdt[i]=P[len(P0in)-1]\n",
        "    else:\n",
        "     Pdt[i]=Predt(P0in[i-1],P0in[i],P0in[i+1],dt,dx)\n",
        "  Pxx[math.floor(t/dt)]=Pdt\n",
        "   \n",
        "  t=t+dt\n",
        "  P0in=Pdt\n",
        "  P01=np.append(P01,Pdt)"
      ],
      "metadata": {
        "id": "p08Trc2AR_Hk"
      },
      "execution_count": 57,
      "outputs": []
    },
    {
      "cell_type": "code",
      "source": [
        "Pxx"
      ],
      "metadata": {
        "colab": {
          "base_uri": "https://localhost:8080/"
        },
        "id": "yWXkn0Jaf8o8",
        "outputId": "2ea86662-f7be-4a47-ab43-bbb843c64193"
      },
      "execution_count": 58,
      "outputs": [
        {
          "output_type": "execute_result",
          "data": {
            "text/plain": [
              "array([[   0., 4000., 4000., ..., 4000., 4000.,    0.],\n",
              "       [   0., 3600., 3960., ..., 3999., 3599.,    0.],\n",
              "       [   0., 3276., 3895., ..., 3958., 3275.,    0.],\n",
              "       ...,\n",
              "       [   0., 2311., 3455., ..., 3543., 2310.,    0.],\n",
              "       [   0., 2194., 3368., ..., 3454., 2193.,    0.],\n",
              "       [   0., 2092., 3285., ..., 3367., 2091.,    0.]])"
            ]
          },
          "metadata": {},
          "execution_count": 58
        }
      ]
    },
    {
      "cell_type": "code",
      "source": [
        "Distance.shape"
      ],
      "metadata": {
        "colab": {
          "base_uri": "https://localhost:8080/"
        },
        "id": "4G4Ml0PmgJ21",
        "outputId": "9bd43f14-43ef-4aff-f482-37db74257866"
      },
      "execution_count": 61,
      "outputs": [
        {
          "output_type": "execute_result",
          "data": {
            "text/plain": [
              "(101,)"
            ]
          },
          "metadata": {},
          "execution_count": 61
        }
      ]
    },
    {
      "cell_type": "code",
      "source": [
        "import matplotlib.pyplot as plt\n",
        "im\n"
      ],
      "metadata": {
        "colab": {
          "base_uri": "https://localhost:8080/",
          "height": 190
        },
        "id": "wM0aMWh7hxlT",
        "outputId": "974ff1f8-848a-4d78-ead7-736c0d06e680"
      },
      "execution_count": 62,
      "outputs": [
        {
          "output_type": "error",
          "ename": "NameError",
          "evalue": "ignored",
          "traceback": [
            "\u001b[0;31m---------------------------------------------------------------------------\u001b[0m",
            "\u001b[0;31mNameError\u001b[0m                                 Traceback (most recent call last)",
            "\u001b[0;32m<ipython-input-62-a20cd4477879>\u001b[0m in \u001b[0;36m<cell line: 2>\u001b[0;34m()\u001b[0m\n\u001b[1;32m      1\u001b[0m \u001b[0;32mimport\u001b[0m \u001b[0mmatplotlib\u001b[0m\u001b[0;34m.\u001b[0m\u001b[0mpyplot\u001b[0m \u001b[0;32mas\u001b[0m \u001b[0mplt\u001b[0m\u001b[0;34m\u001b[0m\u001b[0;34m\u001b[0m\u001b[0m\n\u001b[0;32m----> 2\u001b[0;31m \u001b[0mim\u001b[0m\u001b[0;34m\u001b[0m\u001b[0;34m\u001b[0m\u001b[0m\n\u001b[0m",
            "\u001b[0;31mNameError\u001b[0m: name 'im' is not defined"
          ]
        }
      ]
    },
    {
      "cell_type": "code",
      "source": [],
      "metadata": {
        "id": "dA1tGfsIf6yN"
      },
      "execution_count": null,
      "outputs": []
    },
    {
      "cell_type": "markdown",
      "source": [],
      "metadata": {
        "id": "tAZ5LboPOAoA"
      }
    }
  ]
}